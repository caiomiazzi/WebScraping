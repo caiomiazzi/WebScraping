{
 "cells": [
  {
   "cell_type": "markdown",
   "metadata": {},
   "source": [
    "# Projeto Final\n",
    "\n",
    "### Problema gerador\n",
    "\n",
    "Você trabalha em um projeto de análise de dados e precisa adquirir informações de uma página da Wikipedia sobre um tema específico para sua análise.\n",
    "\n",
    "No entanto, a Wikipédia não fornece uma API direta para acessar os dados, então você decide criar um script Python para automatizar o processo de aquisição de dados.\n",
    "\n",
    "Você planeja usar Selenium para navegar até a página da Wikipédia relacionada ao seu tema de interesse, salvar o conteúdo HTML da página, extrair a tabela relevante usando BeautifulSoup e, finalmente, processar os dados da tabbela com pandas para análise posterior."
   ]
  },
  {
   "cell_type": "code",
   "execution_count": 3,
   "metadata": {},
   "outputs": [],
   "source": [
    "import pandas as pd\n",
    "from bs4 import BeautifulSoup\n",
    "from selenium import webdriver\n",
    "from selenium.webdriver.common.by import By"
   ]
  },
  {
   "cell_type": "code",
   "execution_count": 5,
   "metadata": {},
   "outputs": [
    {
     "name": "stdout",
     "output_type": "stream",
     "text": [
      "Pesquisa Avançada\n"
     ]
    }
   ],
   "source": [
    "url = 'https://pt.wikipedia.org/wiki/Wikip%C3%A9dia:P%C3%A1gina_principal'\n",
    "\n",
    "tema = 'valor histórico do dolar'\n",
    "\n",
    "driver = webdriver.Chrome()\n",
    "\n",
    "\n",
    "#Fazer a pesquisa\n",
    "driver.get(url)\n",
    "search_box = driver.find_element(By.NAME, 'search')\n",
    "search_box.send_keys(tema)\n",
    "search_box.submit()\n",
    "\n",
    "if driver.find_elements(By.XPATH,'//*[@id=\"firstHeading\"]'):\n",
    "    if driver.find_elements(By.XPATH,'//*[@id=\"firstHeading\"]')[0].text == 'Resultados da pesquisa':\n",
    "        print('Pesquisa Avançada')\n",
    "    else:\n",
    "        pass"
   ]
  },
  {
   "cell_type": "markdown",
   "metadata": {},
   "source": [
    "# estou no minuto 10:37"
   ]
  }
 ],
 "metadata": {
  "kernelspec": {
   "display_name": "base",
   "language": "python",
   "name": "python3"
  },
  "language_info": {
   "codemirror_mode": {
    "name": "ipython",
    "version": 3
   },
   "file_extension": ".py",
   "mimetype": "text/x-python",
   "name": "python",
   "nbconvert_exporter": "python",
   "pygments_lexer": "ipython3",
   "version": "3.11.5"
  }
 },
 "nbformat": 4,
 "nbformat_minor": 2
}
