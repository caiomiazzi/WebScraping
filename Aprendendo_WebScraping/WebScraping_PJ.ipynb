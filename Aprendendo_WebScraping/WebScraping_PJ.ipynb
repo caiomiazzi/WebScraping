{
 "cells": [
  {
   "cell_type": "markdown",
   "metadata": {},
   "source": [
    "# Projeto Final\n",
    "\n",
    "### Problema gerador\n",
    "\n",
    "Você trabalha em um projeto de análise de dados e precisa adquirir informações de uma página da Wikipedia sobre um tema específico para sua análise.\n",
    "\n",
    "No entanto, a Wikipédia não fornece uma API direta para acessar os dados, então você decide criar um script Python para automatizar o processo de aquisição de dados.\n",
    "\n",
    "Você planeja usar Selenium para navegar até a página da Wikipédia relacionada ao seu tema de interesse, salvar o conteúdo HTML da página, extrair a tabela relevante usando BeautifulSoup e, finalmente, processar os dados da tabbela com pandas para análise posterior."
   ]
  },
  {
   "cell_type": "code",
   "execution_count": 10,
   "metadata": {},
   "outputs": [],
   "source": [
    "import pandas as pd\n",
    "from bs4 import BeautifulSoup\n",
    "from selenium import webdriver\n",
    "from selenium.webdriver.common.by import By"
   ]
  },
  {
   "cell_type": "code",
   "execution_count": 9,
   "metadata": {},
   "outputs": [
    {
     "name": "stdout",
     "output_type": "stream",
     "text": [
      "Pesquisa Avançada\n"
     ]
    },
    {
     "ename": "AttributeError",
     "evalue": "'list' object has no attribute 'click'",
     "output_type": "error",
     "traceback": [
      "\u001b[1;31m---------------------------------------------------------------------------\u001b[0m",
      "\u001b[1;31mAttributeError\u001b[0m                            Traceback (most recent call last)",
      "Cell \u001b[1;32mIn[9], line 20\u001b[0m\n\u001b[0;32m     18\u001b[0m \u001b[38;5;28;01mif\u001b[39;00m driver\u001b[38;5;241m.\u001b[39mfind_elements(By\u001b[38;5;241m.\u001b[39mXPATH,\u001b[38;5;124m'\u001b[39m\u001b[38;5;124m//*[@id=\u001b[39m\u001b[38;5;124m\"\u001b[39m\u001b[38;5;124mfirstHeading\u001b[39m\u001b[38;5;124m\"\u001b[39m\u001b[38;5;124m]\u001b[39m\u001b[38;5;124m'\u001b[39m)[\u001b[38;5;241m0\u001b[39m]\u001b[38;5;241m.\u001b[39mtext \u001b[38;5;241m==\u001b[39m \u001b[38;5;124m'\u001b[39m\u001b[38;5;124mResultados da pesquisa\u001b[39m\u001b[38;5;124m'\u001b[39m:\n\u001b[0;32m     19\u001b[0m     \u001b[38;5;28mprint\u001b[39m(\u001b[38;5;124m'\u001b[39m\u001b[38;5;124mPesquisa Avançada\u001b[39m\u001b[38;5;124m'\u001b[39m)\n\u001b[1;32m---> 20\u001b[0m     \u001b[43mdriver\u001b[49m\u001b[38;5;241;43m.\u001b[39;49m\u001b[43mfind_elements\u001b[49m\u001b[43m(\u001b[49m\u001b[43mBy\u001b[49m\u001b[38;5;241;43m.\u001b[39;49m\u001b[43mXPATH\u001b[49m\u001b[43m,\u001b[49m\u001b[43m \u001b[49m\u001b[38;5;124;43m'\u001b[39;49m\u001b[38;5;124;43m//*[@id=\u001b[39;49m\u001b[38;5;124;43m\"\u001b[39;49m\u001b[38;5;124;43mmw-content-text\u001b[39;49m\u001b[38;5;124;43m\"\u001b[39;49m\u001b[38;5;124;43m]/div[3]/div[4]/ul/li[2]/div/div[2]/div[1]/a\u001b[39;49m\u001b[38;5;124;43m'\u001b[39;49m\u001b[43m)\u001b[49m\u001b[38;5;241;43m.\u001b[39;49m\u001b[43mclick\u001b[49m()\n\u001b[0;32m     22\u001b[0m \u001b[38;5;28;01melse\u001b[39;00m:\n\u001b[0;32m     23\u001b[0m     \u001b[38;5;28mprint\u001b[39m(\u001b[38;5;124m'\u001b[39m\u001b[38;5;124mPagina Wik\u001b[39m\u001b[38;5;124m'\u001b[39m)\n",
      "\u001b[1;31mAttributeError\u001b[0m: 'list' object has no attribute 'click'"
     ]
    }
   ],
   "source": [
    "url = 'https://pt.wikipedia.org/wiki/Wikip%C3%A9dia:P%C3%A1gina_principal'\n",
    "\n",
    "tema = 'Comida Brasileira'\n",
    "\n",
    "driver = webdriver.Chrome()\n",
    "\n",
    "\n",
    "#Fazer a pesquisa\n",
    "driver.get(url)\n",
    "search_box = driver.find_element(By.NAME, 'search')\n",
    "search_box.send_keys(tema)\n",
    "search_box.submit()\n",
    "\n",
    "if driver.find_elements(By.XPATH,'//*[@id=\"disambig\"]/table/tbody/tr/td[1]/span/a/img'):\n",
    "    print('Pagina desambiguação')\n",
    "    driver.find_elements(By.XPATH, '//*[@id=\"mw-content-text\"]/div[1]/ul/li[1]/a').click()\n",
    "elif driver.find_elements(By.XPATH,'//*[@id=\"firstHeading\"]'):\n",
    "    if driver.find_elements(By.XPATH,'//*[@id=\"firstHeading\"]')[0].text == 'Resultados da pesquisa':\n",
    "        print('Pesquisa Avançada')\n",
    "        driver.find_elements(By.XPATH, '//*[@id=\"mw-content-text\"]/div[3]/div[4]/ul/li[2]/div/div[2]/div[1]/a').click()\n",
    "\n",
    "    else:\n",
    "        print('Pagina Wik')"
   ]
  },
  {
   "cell_type": "code",
   "execution_count": 5,
   "metadata": {},
   "outputs": [
    {
     "name": "stdout",
     "output_type": "stream",
     "text": [
      "Pesquisa Avançada\n"
     ]
    }
   ],
   "source": [
    "from selenium import webdriver\n",
    "from selenium.webdriver.common.by import By\n",
    "from selenium.webdriver.support.ui import WebDriverWait\n",
    "from selenium.webdriver.support import expected_conditions as EC\n",
    "\n",
    "url = 'https://pt.wikipedia.org/wiki/Wikip%C3%A9dia:P%C3%A1gina_principal'\n",
    "tema = 'valor histórico do dolar'\n",
    "\n",
    "driver = webdriver.Chrome()\n",
    "\n",
    "# Fazer a pesquisa\n",
    "driver.get(url)\n",
    "\n",
    "# Espera até que o campo de pesquisa esteja visível e interagível\n",
    "search_box = WebDriverWait(driver, 20).until(\n",
    "    EC.element_to_be_clickable((By.NAME, 'search'))\n",
    ")\n",
    "search_box.send_keys(tema)\n",
    "search_box.submit()\n",
    "\n",
    "# Verificar se a pesquisa foi bem-sucedida\n",
    "if driver.find_elements(By.XPATH, '//*[@id=\"firstHeading\"]'):\n",
    "    if driver.find_element(By.XPATH, '//*[@id=\"firstHeading\"]').text == 'Resultados da pesquisa':\n",
    "        print('Pesquisa Avançada')\n",
    "    else:\n",
    "        print('Pesquisa encontrada')\n",
    "else:\n",
    "    print('Não foi possível encontrar resultados')\n",
    "\n",
    "# Fechar o navegador\n",
    "driver.quit()\n"
   ]
  },
  {
   "cell_type": "markdown",
   "metadata": {},
   "source": [
    "### Parei em 17:25"
   ]
  }
 ],
 "metadata": {
  "kernelspec": {
   "display_name": "base",
   "language": "python",
   "name": "python3"
  },
  "language_info": {
   "codemirror_mode": {
    "name": "ipython",
    "version": 3
   },
   "file_extension": ".py",
   "mimetype": "text/x-python",
   "name": "python",
   "nbconvert_exporter": "python",
   "pygments_lexer": "ipython3",
   "version": "3.11.5"
  }
 },
 "nbformat": 4,
 "nbformat_minor": 2
}
