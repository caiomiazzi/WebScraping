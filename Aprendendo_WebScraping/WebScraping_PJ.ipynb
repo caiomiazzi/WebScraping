{
 "cells": [
  {
   "cell_type": "markdown",
   "metadata": {},
   "source": [
    "# Projeto Final\n",
    "\n",
    "### Problema gerador\n",
    "\n",
    "Você trabalha em um projeto de análise de dados e precisa adquirir informações de uma página da Wikipedia sobre um tema específico para sua análise.\n",
    "\n",
    "No entanto, a Wikipédia não fornece uma API direta para acessar os dados, então você decide criar um script Python para automatizar o processo de aquisição de dados.\n",
    "\n",
    "Você planeja usar Selenium para navegar até a página da Wikipédia relacionada ao seu tema de interesse, salvar o conteúdo HTML da página, extrair a tabela relevante usando BeautifulSoup e, finalmente, processar os dados da tabbela com pandas para análise posterior."
   ]
  },
  {
   "cell_type": "code",
   "execution_count": 1,
   "metadata": {},
   "outputs": [],
   "source": [
    "import pandas as pd\n",
    "from bs4 import BeautifulSoup\n",
    "from selenium import webdriver\n",
    "from selenium.webdriver.common.by import By"
   ]
  },
  {
   "cell_type": "code",
   "execution_count": 22,
   "metadata": {},
   "outputs": [
    {
     "name": "stdout",
     "output_type": "stream",
     "text": [
      "Pesquisa Avançada\n"
     ]
    }
   ],
   "source": [
    "url = 'https://pt.wikipedia.org/wiki/Wikip%C3%A9dia:P%C3%A1gina_principal'\n",
    "\n",
    "tema = 'comida brasileira'\n",
    "\n",
    "driver = webdriver.Chrome()\n",
    "\n",
    "\n",
    "#Fazer a pesquisa\n",
    "driver.get(url)\n",
    "search_box = driver.find_element(By.NAME, 'search')\n",
    "search_box.send_keys(tema)\n",
    "search_box.submit()\n",
    "\n",
    "\n",
    "\n",
    "# Tratar tipos de pesquisas e acessar  pagina wiki\n",
    "if driver.find_elements(By.XPATH,'//*[@id=\"disambig\"]/table/tbody/tr/td[1]/span/a/img'):\n",
    "    print('Pagina desambiguação')\n",
    "    driver.find_element(By.XPATH, '//*[@id=\"mw-content-text\"]/div[1]/ul/li[1]/a').click()\n",
    "elif driver.find_elements(By.XPATH,'//*[@id=\"firstHeading\"]'):\n",
    "    if driver.find_elements(By.XPATH,'//*[@id=\"firstHeading\"]')[0].text == 'Resultados da pesquisa':\n",
    "        print('Pesquisa Avançada')\n",
    "        driver.find_element(By.XPATH, '//*[@id=\"mw-content-text\"]/div[3]/div[4]/ul/li[2]/div/div[2]/div[1]/a').click()\n",
    "\n",
    "    else:\n",
    "        print('Pagina Wik')\n",
    "\n",
    "html = driver.page_source\n",
    "driver.quit()"
   ]
  },
  {
   "cell_type": "code",
   "execution_count": 23,
   "metadata": {},
   "outputs": [],
   "source": [
    "html_parsed = BeautifulSoup(html, 'html.parser')"
   ]
  },
  {
   "cell_type": "code",
   "execution_count": 24,
   "metadata": {},
   "outputs": [
    {
     "data": {
      "text/html": [
       "<div>\n",
       "<style scoped>\n",
       "    .dataframe tbody tr th:only-of-type {\n",
       "        vertical-align: middle;\n",
       "    }\n",
       "\n",
       "    .dataframe tbody tr th {\n",
       "        vertical-align: top;\n",
       "    }\n",
       "\n",
       "    .dataframe thead th {\n",
       "        text-align: right;\n",
       "    }\n",
       "</style>\n",
       "<table border=\"1\" class=\"dataframe\">\n",
       "  <thead>\n",
       "    <tr style=\"text-align: right;\">\n",
       "      <th></th>\n",
       "      <th>0</th>\n",
       "      <th>1</th>\n",
       "    </tr>\n",
       "  </thead>\n",
       "  <tbody>\n",
       "    <tr>\n",
       "      <th>0</th>\n",
       "      <td>NaN</td>\n",
       "      <td>Esta página cita fontes, mas que não cobrem to...</td>\n",
       "    </tr>\n",
       "  </tbody>\n",
       "</table>\n",
       "</div>"
      ],
      "text/plain": [
       "    0                                                  1\n",
       "0 NaN  Esta página cita fontes, mas que não cobrem to..."
      ]
     },
     "metadata": {},
     "output_type": "display_data"
    },
    {
     "data": {
      "text/html": [
       "<div>\n",
       "<style scoped>\n",
       "    .dataframe tbody tr th:only-of-type {\n",
       "        vertical-align: middle;\n",
       "    }\n",
       "\n",
       "    .dataframe tbody tr th {\n",
       "        vertical-align: top;\n",
       "    }\n",
       "\n",
       "    .dataframe thead th {\n",
       "        text-align: right;\n",
       "    }\n",
       "</style>\n",
       "<table border=\"1\" class=\"dataframe\">\n",
       "  <thead>\n",
       "    <tr style=\"text-align: right;\">\n",
       "      <th></th>\n",
       "      <th>0</th>\n",
       "      <th>1</th>\n",
       "    </tr>\n",
       "  </thead>\n",
       "  <tbody>\n",
       "    <tr>\n",
       "      <th>0</th>\n",
       "      <td>NaN</td>\n",
       "      <td>Esta página cita fontes, mas que não cobrem to...</td>\n",
       "    </tr>\n",
       "  </tbody>\n",
       "</table>\n",
       "</div>"
      ],
      "text/plain": [
       "    0                                                  1\n",
       "0 NaN  Esta página cita fontes, mas que não cobrem to..."
      ]
     },
     "metadata": {},
     "output_type": "display_data"
    }
   ],
   "source": [
    "tabelas = html_parsed.find_all('table')\n",
    "\n",
    "for tabela in tabelas:\n",
    "    df = pd.read_html(str(tabelas))[0]\n",
    "    display(df.head())"
   ]
  },
  {
   "cell_type": "markdown",
   "metadata": {},
   "source": [
    "### Parei em 17:25"
   ]
  }
 ],
 "metadata": {
  "kernelspec": {
   "display_name": "base",
   "language": "python",
   "name": "python3"
  },
  "language_info": {
   "codemirror_mode": {
    "name": "ipython",
    "version": 3
   },
   "file_extension": ".py",
   "mimetype": "text/x-python",
   "name": "python",
   "nbconvert_exporter": "python",
   "pygments_lexer": "ipython3",
   "version": "3.11.5"
  }
 },
 "nbformat": 4,
 "nbformat_minor": 2
}
