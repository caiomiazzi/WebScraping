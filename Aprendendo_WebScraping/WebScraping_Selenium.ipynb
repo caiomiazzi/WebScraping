{
 "cells": [
  {
   "cell_type": "markdown",
   "metadata": {},
   "source": [
    "# Web Scraping com Selenium\n",
    "\n",
    "### **O que é?** \n",
    "#### Biblioteca em Python voltada simular interações de usuário em páginas web\n",
    "\n",
    "### **Como utilizar?**\n",
    "\n",
    "\n",
    "`pip install selenium`"
   ]
  },
  {
   "cell_type": "markdown",
   "metadata": {},
   "source": [
    "### Código para instalação no google colab:\n",
    "\n",
    "```\n",
    "!apt-get update\n",
    "!apt install chromium-chromedriver\n",
    "!cp /usr/lib/chromium-browser/chromedriver /usr/bin\n",
    "```"
   ]
  },
  {
   "cell_type": "code",
   "execution_count": 1,
   "metadata": {},
   "outputs": [
    {
     "name": "stdout",
     "output_type": "stream",
     "text": [
      "Defaulting to user installation because normal site-packages is not writeable\n",
      "Collecting selenium\n",
      "  Obtaining dependency information for selenium from https://files.pythonhosted.org/packages/f2/7d/3a0b9c229d87a189b64c3b8e6d87a970a1ef7875995dc31bd18e65fa1c17/selenium-4.22.0-py3-none-any.whl.metadata\n",
      "  Downloading selenium-4.22.0-py3-none-any.whl.metadata (7.0 kB)\n",
      "Requirement already satisfied: urllib3[socks]<3,>=1.26 in d:\\t.i\\anaconda\\lib\\site-packages (from selenium) (1.26.16)\n",
      "Collecting trio~=0.17 (from selenium)\n",
      "  Obtaining dependency information for trio~=0.17 from https://files.pythonhosted.org/packages/76/51/12d78ec8abcbda51d8f115d98ebd3ee3da9d9d9af00ac69d3097c5b8d51a/trio-0.25.1-py3-none-any.whl.metadata\n",
      "  Downloading trio-0.25.1-py3-none-any.whl.metadata (8.7 kB)\n",
      "Collecting trio-websocket~=0.9 (from selenium)\n",
      "  Obtaining dependency information for trio-websocket~=0.9 from https://files.pythonhosted.org/packages/48/be/a9ae5f50cad5b6f85bd2574c2c923730098530096e170c1ce7452394d7aa/trio_websocket-0.11.1-py3-none-any.whl.metadata\n",
      "  Downloading trio_websocket-0.11.1-py3-none-any.whl.metadata (4.7 kB)\n",
      "Requirement already satisfied: certifi>=2021.10.8 in d:\\t.i\\anaconda\\lib\\site-packages (from selenium) (2023.7.22)\n",
      "Collecting typing_extensions>=4.9.0 (from selenium)\n",
      "  Obtaining dependency information for typing_extensions>=4.9.0 from https://files.pythonhosted.org/packages/26/9f/ad63fc0248c5379346306f8668cda6e2e2e9c95e01216d2b8ffd9ff037d0/typing_extensions-4.12.2-py3-none-any.whl.metadata\n",
      "  Downloading typing_extensions-4.12.2-py3-none-any.whl.metadata (3.0 kB)\n",
      "Collecting websocket-client>=1.8.0 (from selenium)\n",
      "  Obtaining dependency information for websocket-client>=1.8.0 from https://files.pythonhosted.org/packages/5a/84/44687a29792a70e111c5c477230a72c4b957d88d16141199bf9acb7537a3/websocket_client-1.8.0-py3-none-any.whl.metadata\n",
      "  Downloading websocket_client-1.8.0-py3-none-any.whl.metadata (8.0 kB)\n",
      "Collecting attrs>=23.2.0 (from trio~=0.17->selenium)\n",
      "  Obtaining dependency information for attrs>=23.2.0 from https://files.pythonhosted.org/packages/e0/44/827b2a91a5816512fcaf3cc4ebc465ccd5d598c45cefa6703fcf4a79018f/attrs-23.2.0-py3-none-any.whl.metadata\n",
      "  Downloading attrs-23.2.0-py3-none-any.whl.metadata (9.5 kB)\n",
      "Requirement already satisfied: sortedcontainers in d:\\t.i\\anaconda\\lib\\site-packages (from trio~=0.17->selenium) (2.4.0)\n",
      "Requirement already satisfied: idna in d:\\t.i\\anaconda\\lib\\site-packages (from trio~=0.17->selenium) (3.4)\n",
      "Collecting outcome (from trio~=0.17->selenium)\n",
      "  Obtaining dependency information for outcome from https://files.pythonhosted.org/packages/55/8b/5ab7257531a5d830fc8000c476e63c935488d74609b50f9384a643ec0a62/outcome-1.3.0.post0-py2.py3-none-any.whl.metadata\n",
      "  Downloading outcome-1.3.0.post0-py2.py3-none-any.whl.metadata (2.6 kB)\n",
      "Collecting sniffio>=1.3.0 (from trio~=0.17->selenium)\n",
      "  Obtaining dependency information for sniffio>=1.3.0 from https://files.pythonhosted.org/packages/e9/44/75a9c9421471a6c4805dbf2356f7c181a29c1879239abab1ea2cc8f38b40/sniffio-1.3.1-py3-none-any.whl.metadata\n",
      "  Downloading sniffio-1.3.1-py3-none-any.whl.metadata (3.9 kB)\n",
      "Requirement already satisfied: cffi>=1.14 in d:\\t.i\\anaconda\\lib\\site-packages (from trio~=0.17->selenium) (1.15.1)\n",
      "Collecting wsproto>=0.14 (from trio-websocket~=0.9->selenium)\n",
      "  Obtaining dependency information for wsproto>=0.14 from https://files.pythonhosted.org/packages/78/58/e860788190eba3bcce367f74d29c4675466ce8dddfba85f7827588416f01/wsproto-1.2.0-py3-none-any.whl.metadata\n",
      "  Downloading wsproto-1.2.0-py3-none-any.whl.metadata (5.6 kB)\n",
      "Requirement already satisfied: PySocks!=1.5.7,<2.0,>=1.5.6 in d:\\t.i\\anaconda\\lib\\site-packages (from urllib3[socks]<3,>=1.26->selenium) (1.7.1)\n",
      "Requirement already satisfied: pycparser in d:\\t.i\\anaconda\\lib\\site-packages (from cffi>=1.14->trio~=0.17->selenium) (2.21)\n",
      "Collecting h11<1,>=0.9.0 (from wsproto>=0.14->trio-websocket~=0.9->selenium)\n",
      "  Obtaining dependency information for h11<1,>=0.9.0 from https://files.pythonhosted.org/packages/95/04/ff642e65ad6b90db43e668d70ffb6736436c7ce41fcc549f4e9472234127/h11-0.14.0-py3-none-any.whl.metadata\n",
      "  Downloading h11-0.14.0-py3-none-any.whl.metadata (8.2 kB)\n",
      "Downloading selenium-4.22.0-py3-none-any.whl (9.4 MB)\n",
      "   ---------------------------------------- 0.0/9.4 MB ? eta -:--:--\n",
      "   ------- -------------------------------- 1.7/9.4 MB 35.5 MB/s eta 0:00:01\n",
      "   ------------------------------- -------- 7.5/9.4 MB 79.3 MB/s eta 0:00:01\n",
      "   ---------------------------------------  9.4/9.4 MB 86.4 MB/s eta 0:00:01\n",
      "   ---------------------------------------  9.4/9.4 MB 86.4 MB/s eta 0:00:01\n",
      "   ---------------------------------------- 9.4/9.4 MB 46.4 MB/s eta 0:00:00\n",
      "Downloading trio-0.25.1-py3-none-any.whl (467 kB)\n",
      "   ---------------------------------------- 0.0/467.7 kB ? eta -:--:--\n",
      "   --------------------------------------- 467.7/467.7 kB 28.6 MB/s eta 0:00:00\n",
      "Downloading trio_websocket-0.11.1-py3-none-any.whl (17 kB)\n",
      "Downloading typing_extensions-4.12.2-py3-none-any.whl (37 kB)\n",
      "Downloading websocket_client-1.8.0-py3-none-any.whl (58 kB)\n",
      "   ---------------------------------------- 0.0/58.8 kB ? eta -:--:--\n",
      "   ---------------------------------------- 58.8/58.8 kB ? eta 0:00:00\n",
      "Downloading attrs-23.2.0-py3-none-any.whl (60 kB)\n",
      "   ---------------------------------------- 0.0/60.8 kB ? eta -:--:--\n",
      "   ---------------------------------------- 60.8/60.8 kB ? eta 0:00:00\n",
      "Downloading sniffio-1.3.1-py3-none-any.whl (10 kB)\n",
      "Downloading wsproto-1.2.0-py3-none-any.whl (24 kB)\n",
      "Downloading outcome-1.3.0.post0-py2.py3-none-any.whl (10 kB)\n",
      "Downloading h11-0.14.0-py3-none-any.whl (58 kB)\n",
      "   ---------------------------------------- 0.0/58.3 kB ? eta -:--:--\n",
      "   ---------------------------------------- 58.3/58.3 kB ? eta 0:00:00\n",
      "Installing collected packages: websocket-client, typing_extensions, sniffio, h11, attrs, wsproto, outcome, trio, trio-websocket, selenium\n",
      "Successfully installed attrs-23.2.0 h11-0.14.0 outcome-1.3.0.post0 selenium-4.22.0 sniffio-1.3.1 trio-0.25.1 trio-websocket-0.11.1 typing_extensions-4.12.2 websocket-client-1.8.0 wsproto-1.2.0\n"
     ]
    },
    {
     "name": "stderr",
     "output_type": "stream",
     "text": [
      "  WARNING: The script wsdump.exe is installed in 'C:\\Users\\User\\AppData\\Roaming\\Python\\Python311\\Scripts' which is not on PATH.\n",
      "  Consider adding this directory to PATH or, if you prefer to suppress this warning, use --no-warn-script-location.\n",
      "ERROR: pip's dependency resolver does not currently take into account all the packages that are installed. This behaviour is the source of the following dependency conflicts.\n",
      "spyder 5.4.3 requires jedi<0.19.0,>=0.17.2, but you have jedi 0.19.1 which is incompatible.\n"
     ]
    }
   ],
   "source": [
    "!pip3 install selenium"
   ]
  },
  {
   "cell_type": "markdown",
   "metadata": {},
   "source": [
    "### **Quando utilizar?**\n",
    "\n",
    "- #### Interagir\n",
    "- #### Localizar\n",
    "- #### Extrair\n",
    "\n"
   ]
  },
  {
   "cell_type": "markdown",
   "metadata": {},
   "source": [
    "### Exemplo"
   ]
  },
  {
   "cell_type": "code",
   "execution_count": 3,
   "metadata": {},
   "outputs": [],
   "source": [
    "from selenium import webdriver\n",
    "\n",
    "# Instancia o nosso driver (navegador Chrome)\n",
    "driver = webdriver.Chrome()\n",
    "\n",
    "# Abrindo o site que definimos.\n",
    "driver.get(\"http://selenium.dev\")\n",
    "\n",
    "# Fecha o programa\n",
    "#driver.quit()"
   ]
  },
  {
   "cell_type": "code",
   "execution_count": null,
   "metadata": {},
   "outputs": [],
   "source": [
    "#codigo para google colab\n",
    "\n",
    "# !pip install chromedriver-autoinstaller\n",
    "\n",
    "# import sys\n",
    "# sys.path.insert(0,'/usr/lib/chromium-browser/chromedriver')\n",
    "\n",
    "# import time\n",
    "# import pandas as pd\n",
    "# from bs4 import BeautifulSoup\n",
    "# from selenium import webdriver\n",
    "# import chromedriver_autoinstaller\n",
    "\n",
    "\n",
    "# chrome_options = webdriver.ChromeOptions()\n",
    "# chrome_options.add_argument(\"--window-size=1920,1080\")\n",
    "# chrome_options.add_argument('--headless') \n",
    "# chrome_options.add_argument('--no-sandbox')\n",
    "# chrome_options.add_argument('--disable-dev-shm-usage')\n",
    "\n",
    "\n",
    "# chromedriver_autoinstaller.install()\n",
    "\n",
    "\n",
    "# driver = webdriver.Chrome(options=chrome_options)"
   ]
  },
  {
   "cell_type": "markdown",
   "metadata": {},
   "source": [
    "## Como localizar e interagir com elementos web com Selenium"
   ]
  },
  {
   "cell_type": "markdown",
   "metadata": {},
   "source": [
    "#### Uma parte fundamental do Selenium é a capacidade de localizar elementos em uma página da web para interagir com eles."
   ]
  },
  {
   "cell_type": "markdown",
   "metadata": {},
   "source": [
    "### **Como localizar?**\n",
    "\n",
    "- #### Localização por ID\n",
    "- #### Localização por Nome\n",
    "- #### Localização por Classe\n",
    "- #### Localização por XPath\n",
    "- #### Localização por Seletor CSS\n"
   ]
  },
  {
   "cell_type": "markdown",
   "metadata": {},
   "source": [
    "### Métodos:\n",
    "- #### Antigo:\n",
    "`driver.find_element_by_*`\n",
    "\n",
    "- #### Atual:\n",
    "`driver.find_element`"
   ]
  },
  {
   "cell_type": "markdown",
   "metadata": {},
   "source": [
    "### Exemplo\n",
    "\n",
    "Encontrar os telefones disponiveis nesse site: \n",
    "https://webscraper.io/test-sites/e-commerce/allinone/phones"
   ]
  },
  {
   "cell_type": "code",
   "execution_count": 5,
   "metadata": {},
   "outputs": [
    {
     "data": {
      "text/plain": [
       "<selenium.webdriver.remote.webelement.WebElement (session=\"20b9b752568e58ecdd329db4792e0591\", element=\"f.ABFE483FD7D2EE6731222F6DFBDF2901.d.FAE4A2A48C700963E70F4920B1E6AC74.e.9\")>"
      ]
     },
     "execution_count": 5,
     "metadata": {},
     "output_type": "execute_result"
    }
   ],
   "source": [
    "from selenium import webdriver\n",
    "from selenium.webdriver.common.by import By\n",
    "\n",
    "driver = webdriver.Chrome()\n",
    "\n",
    "driver.get(\"https://webscraper.io/test-sites/e-commerce/allinone/phones\")\n",
    "\n",
    "driver.find_element(By.CLASS_NAME, \"title\")\n"
   ]
  },
  {
   "cell_type": "code",
   "execution_count": 6,
   "metadata": {},
   "outputs": [
    {
     "name": "stdout",
     "output_type": "stream",
     "text": [
      "Iphone\n"
     ]
    }
   ],
   "source": [
    "print(driver.find_element(By.CLASS_NAME, \"title\").text)"
   ]
  },
  {
   "cell_type": "markdown",
   "metadata": {},
   "source": [
    "Eu preciso sempre inspecionar e identificar na pagina o que eu quero pegar.\n",
    "\n",
    "Acima eu testei e verifiquei que retornou o nome do primeiro produto, eu já verifiquei se o nome dos outros produtos tambem está com 'title', e agora para que eu tenha todos os nomes dos produtos eu preciso usar o find_elements, porem como ele me retorna uma lista eu não posso usar o .text, então preciso percorrer os itens."
   ]
  },
  {
   "cell_type": "code",
   "execution_count": 7,
   "metadata": {},
   "outputs": [
    {
     "name": "stdout",
     "output_type": "stream",
     "text": [
      "Iphone\n",
      "Iphone\n",
      "LG Optimus\n"
     ]
    }
   ],
   "source": [
    "lista_telefones = driver.find_elements(By.CLASS_NAME, 'title')\n",
    "\n",
    "for item in lista_telefones:\n",
    "    print(item.text)"
   ]
  },
  {
   "cell_type": "markdown",
   "metadata": {},
   "source": [
    "### **Como interagir?**\n",
    "\n",
    "- #### send_keys\n",
    "-- Permite escrever em um campo de texto\n",
    "\n",
    "- #### click\n",
    "-- Permite clickar\n",
    "\n",
    "- #### select\n",
    "-- Quando houver um multi select, como em um drop down para selecionar alguns filtros\n",
    "\n",
    "- #### submit\n",
    "-- Quando você ja tem alguma informação que você inputou você usa o submit para dar o 'enter'"
   ]
  },
  {
   "cell_type": "markdown",
   "metadata": {},
   "source": [
    "### Exemplo\n",
    "\n",
    "Encontrar os computadores disponiveis nesse site: \n",
    "https://webscraper.io/test-sites/e-commerce/allinone/phones\n"
   ]
  },
  {
   "cell_type": "code",
   "execution_count": 8,
   "metadata": {},
   "outputs": [],
   "source": [
    "#//*[@id=\"side-menu\"]/li[2]/a\n",
    "\n",
    "from selenium import webdriver\n",
    "\n",
    "\n",
    "driver = webdriver.Chrome()\n",
    "\n",
    "driver.get(\"https://webscraper.io/test-sites/e-commerce/allinone/phones\")\n",
    "\n",
    "computadores = driver.find_element(By.XPATH,'//*[@id=\"side-menu\"]/li[2]/a')\n",
    "\n",
    "computadores.click()"
   ]
  },
  {
   "cell_type": "markdown",
   "metadata": {},
   "source": [
    "## Interações com Selenium"
   ]
  },
  {
   "cell_type": "markdown",
   "metadata": {},
   "source": [
    "### Explorando as capacidades de automação de interações \n",
    "\n",
    "#### Live coding https://quotes.toscrape.com/\n",
    "\n",
    "- #### login\n",
    "- #### filtro\n",
    "- #### paginação\n",
    "- #### localizar elemento"
   ]
  },
  {
   "cell_type": "code",
   "execution_count": 7,
   "metadata": {},
   "outputs": [],
   "source": [
    "from selenium import webdriver\n",
    "from selenium.webdriver.common.by import By\n",
    "\n",
    "driver = webdriver.Chrome()\n",
    "\n",
    "driver.get(\"https://quotes.toscrape.com/\")\n",
    "\n",
    "#login\n",
    "login_button = driver.find_element(By.XPATH,'/html/body/div/div[1]/div[2]/p/a')\n",
    "login_button.click()\n",
    "username = driver.find_element(By.XPATH,'//*[@id=\"username\"]')\n",
    "username.send_keys(\"admin\")\n",
    "password = driver.find_element(By.XPATH, '//*[@id=\"password\"]')\n",
    "password.send_keys(\"admin\")\n",
    "login_button2 = driver.find_element(By.XPATH,'/html/body/div/form/input[2]')\n",
    "login_button2.click()\n",
    "\n",
    "#interacao na pagina\n",
    "tag_humor = driver.find_element(By.XPATH, '/html/body/div/div[2]/div[2]/span[4]/a')\n",
    "tag_humor.click()\n",
    "next = driver.find_element(By.XPATH,'/html/body/div/div[2]/div[1]/nav/ul/li/a')\n",
    "next.click()\n",
    "quote = driver.find_element(By.CLASS_NAME,\"quote\").text\n"
   ]
  },
  {
   "cell_type": "code",
   "execution_count": 8,
   "metadata": {},
   "outputs": [
    {
     "name": "stdout",
     "output_type": "stream",
     "text": [
      "“I am free of all prejudice. I hate everyone equally. ”\n",
      "by W.C. Fields (about) - (Goodreads page)\n",
      "Tags: humor sinister\n"
     ]
    }
   ],
   "source": [
    "print(quote)"
   ]
  },
  {
   "cell_type": "code",
   "execution_count": 5,
   "metadata": {},
   "outputs": [],
   "source": [
    "# tag_humor = driver.find_element(By.XPATH,'/html/body/div/div[2]/div[2]/span[5]/a')\n",
    "# tag_humor.click()\n",
    "# next = driver.find_element(By.XPATH, '/html/body/div/div[2]/div[2]/span[1]/a')\n",
    "# next.click()"
   ]
  },
  {
   "cell_type": "markdown",
   "metadata": {},
   "source": [
    "## Temas avançados com Selenium"
   ]
  },
  {
   "cell_type": "markdown",
   "metadata": {},
   "source": [
    "#### Com selenium podemos simular interações mais complexas de usuário em páginas web"
   ]
  },
  {
   "cell_type": "markdown",
   "metadata": {},
   "source": [
    "- #### Cookies personalizados\n",
    "- #### Requisões Ajax\n",
    "- #### Lazy Load\n",
    "- #### Carregamento condicionado\n",
    "- #### Timeout"
   ]
  },
  {
   "cell_type": "markdown",
   "metadata": {},
   "source": [
    "### Cookies personalizados:\n",
    "\n",
    "```\n",
    "cookie = {'name' : 'cookie_teste', 'value' : 'teste'}\n",
    "driver.add_cookie(cookie)\n",
    "driver.get_cookies()\n",
    "```"
   ]
  },
  {
   "cell_type": "code",
   "execution_count": null,
   "metadata": {},
   "outputs": [],
   "source": [
    "from selenium import webdriver\n",
    "from selenium.webdriver.common.by import By\n",
    "\n",
    "driver = webdriver.Chrome()\n",
    "\n",
    "driver.get(\"http://selenium.dev\")"
   ]
  },
  {
   "cell_type": "markdown",
   "metadata": {},
   "source": [
    "### Requisições Ajax e Lazy Load:\n",
    "https://www.scrapethissite.com/pages/ajax-javascript/#2013\n",
    "\n",
    "\n",
    "- #### Espera explicita:\n",
    "\n",
    "```\n",
    "from selenium.webdriver.common.by import By\n",
    "from selenium.webdriver.support.ui import WebDriverWait\n",
    "from selenium.webdriver.support import expected_conditions as EC\n",
    "\n",
    "\n",
    "# Aguardar até que o elemento esteja clicável, max 10 segundos\n",
    "elemento = WebDriverWait(driver, 10).until(\n",
    "    EC.element_to_be_clickable((By.ID, \"elemento\"))\n",
    ")\n",
    "\n",
    "```\n",
    "\n",
    "- #### Espera implicita\n",
    "\n",
    "```\n",
    "# Inicialização do WebDriver com espera implícita de 10 segundos\n",
    "driver = webdriver.Chrome()\n",
    "driver.implicitly_wait(10)  # Espera implícita de 10 segundos\n",
    "```"
   ]
  },
  {
   "cell_type": "markdown",
   "metadata": {},
   "source": [
    "### Carregamento condicionado:\n",
    "\n",
    "\n",
    "- #### Scroll:\n",
    "\n",
    "```\n",
    "from selenium.webdriver import ActionChains\n",
    "\n",
    "#scrollar até um elemento\n",
    "iframe = driver.find_element(By.TAG_NAME, \"iframe\")\n",
    "ActionChains(driver)\\\n",
    "        .scroll_to_element(iframe)\\\n",
    "        .perform()\n",
    "\n",
    "#scrollar quantidade especifica\n",
    "\n",
    "ActionChains(driver)\\\n",
    "        .scroll_by_amount(0, delta_y)\\\n",
    "        .perform()\n",
    "\n",
    "\n",
    "```\n",
    "\n",
    "- #### Hover\n",
    "\n",
    "```\n",
    "from selenium.webdriver import ActionChains\n",
    "\n",
    "\n",
    "hoverable = driver.find_element(By.ID, \"hover\")\n",
    "ActionChains(driver)\\\n",
    "        .move_to_element(hoverable)\\\n",
    "        .perform()\n",
    "```"
   ]
  },
  {
   "cell_type": "markdown",
   "metadata": {},
   "source": [
    "### Timeout:\n",
    "\n",
    "```\n",
    "# Definindo o tempo máximo de espera para o carregamento da página (em segundos)\n",
    "driver.set_page_load_timeout(10)  # Definindo um timeout de 10 segundos\n",
    "\n",
    "try:\n",
    "    # Tentativa de acessar uma página que levará mais tempo para carregar\n",
    "    driver.get(\"https://www.exemplo.com/paginalenta\")\n",
    "    \n",
    "    # Se a página carregar dentro do tempo limite, podemos continuar com as operações\n",
    "    print(\"Página carregada com sucesso!\")\n",
    "\n",
    "except TimeoutException:\n",
    "    # Se a página não carregar dentro do tempo limite, será lançada uma exceção\n",
    "    print(\"Timeout: A página não pôde ser carregada dentro do tempo limite.\")\n",
    "\n",
    "```"
   ]
  }
 ],
 "metadata": {
  "kernelspec": {
   "display_name": "base",
   "language": "python",
   "name": "python3"
  },
  "language_info": {
   "codemirror_mode": {
    "name": "ipython",
    "version": 3
   },
   "file_extension": ".py",
   "mimetype": "text/x-python",
   "name": "python",
   "nbconvert_exporter": "python",
   "pygments_lexer": "ipython3",
   "version": "3.11.5"
  }
 },
 "nbformat": 4,
 "nbformat_minor": 2
}
