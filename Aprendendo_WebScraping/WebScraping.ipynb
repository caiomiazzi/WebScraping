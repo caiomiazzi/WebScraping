{
 "cells": [
  {
   "cell_type": "markdown",
   "metadata": {},
   "source": [
    "\n",
    "Composição de uma Página Web\n",
    "\n",
    "HTML\n",
    "\n",
    "HyperText Markup Language\n",
    "Base de toda página web\n",
    "Define conteúdo e localização dos itens para o navegador\n",
    "Esqueleto\n",
    "Tags\n",
    "CSS\n",
    "\n",
    "Cascading Style Sheets\n",
    "Define a aparência da página web\n",
    "Cores, fontes, tamanhos, posicionamento\n",
    "Estilos\n",
    "\n",
    "\n"
   ]
  },
  {
   "cell_type": "markdown",
   "metadata": {},
   "source": [
    "Tags de Estrutura: definem a estrutura básica da página, como <html>, <head>, <body>, <div>, <span>, etc.\n",
    "Tags de Texto: formatam o texto, como <p>, <h1> a <h6> (títulos), <br> (quebra de linha), <b> (negrito), <i> (itálico), etc.\n",
    "Tags de Links: criam links para outras páginas ou recursos, como <a>.\n",
    "Tags de Imagens: inserem imagens na página, como <img>.\n",
    "Tags de Listas: criam listas não ordenadas e ordenadas, como <ul> e <ol>, respectivamente.\n",
    "Tags de Tabelas: criam tabelas com linhas, colunas e células, como <table>, <tr>, <th> e <td>.\n",
    "Tags de Formulários: criam formulários para coleta de dados do usuário, como <form>, <input>, <select>, <textarea>, etc.\n",
    "Explicação Completa das Tags HTML\n",
    "\n",
    "Tags de Estrutura\n",
    "\n",
    "<html>: Tag raiz que contém todo o conteúdo do documento HTML.\n",
    "<head>: Cabeçalho do documento, onde são armazenados metadados como título da página, palavras-chave e estilos CSS.\n",
    "<title>: Define o título da página que aparece na barra de título do navegador.\n",
    "<body>: Corpo do documento, onde fica o conteúdo principal da página que o usuário visualiza.\n",
    "<div>: Define uma divisão de conteúdo, utilizada para organizar e estruturar o layout da página.\n",
    "<span>: Define um intervalo de texto com estilo específico, geralmente utilizado para destacar palavras ou frases.\n",
    "Tags de Texto\n",
    "\n",
    "<p>: Define um parágrafo de texto.\n",
    "<h1> a <h6>: Definir títulos de diferentes níveis (h1 sendo o mais importante e h6 o menos importante).\n",
    "<br>: Insere uma quebra de linha no texto.\n",
    "<b>: Formata o texto em negrito.\n",
    "<i>: Formata o texto em itálico.\n",
    "<u>: Formata o texto sublinhado.\n",
    "<pre>: Formata o texto em código pré-formatado, preservando espaços e tabulações.\n",
    "Tags de Links\n",
    "\n",
    "<a>: Cria um link para outra página ou recurso. A tag possui dois atributos principais: href (que define o destino do link) e title (que define o texto que aparece como dica de ferramenta quando o cursor do mouse passa sobre o link).\n",
    "Tags de Imagens\n",
    "\n",
    "<img>: Insere uma imagem na página. A tag possui dois atributos principais: src (que define o caminho da imagem) e alt (que define o texto alternativo que aparece quando a imagem não pode ser carregada).\n",
    "Tags de Listas\n",
    "\n",
    "<ul>: Cria uma lista não ordenada (sem numeração).\n",
    "<ol>: Cria uma lista ordenada (com numeração).\n",
    "<li>: Define um item da lista.\n",
    "Tags de Tabelas\n",
    "\n",
    "<table>: Define uma tabela.\n",
    "<tr>: Define uma linha da tabela.\n",
    "<th>: Define um cabeçalho de coluna da tabela.\n",
    "<td>: Define uma célula da tabela.\n",
    "Tags de Formulários\n",
    "\n",
    "<form>: Define um formulário.\n",
    "<input>: Cria um campo de entrada de dados, como texto, senha, número, etc.\n",
    "<select>: Cria um menu suspenso para seleção de opções.\n",
    "<textarea>: Cria uma área de texto para digitação de texto.\n",
    "Exemplos de Uso das Tags HTML\n",
    "\n",
    "Estrutura básica de uma página HTML:\n",
    "\n",
    "<!DOCTYPE html>\n",
    "<html>\n",
    "<head>\n",
    "  <title>Título da Página</title>\n",
    "</head>\n",
    "<body>\n",
    "  <h1>Título Principal</h1>\n",
    "  <p>Este é um parágrafo de texto.</p>\n",
    "  <img src=\"imagem.jpg\" alt=\"Descrição da Imagem\">\n",
    "  <ul>\n",
    "    <li>Item 1</li>\n",
    "    <li>Item 2</li>\n",
    "    <li>Item 3</li>\n",
    "  </ul>\n",
    "</body>\n",
    "\n",
    "o /alguma coisa termina a tag\n"
   ]
  },
  {
   "cell_type": "markdown",
   "metadata": {},
   "source": [
    "## Web Scraping com BeautifulSoup\n",
    "\n",
    "Quando utilizar?\n",
    "\n",
    "- Localizar\n",
    "- Manipular\n",
    "- Extrair"
   ]
  },
  {
   "cell_type": "code",
   "execution_count": 1,
   "metadata": {},
   "outputs": [
    {
     "name": "stdout",
     "output_type": "stream",
     "text": [
      "Defaulting to user installation because normal site-packages is not writeable\n",
      "Requirement already satisfied: beautifulsoup4 in d:\\t.i\\anaconda\\lib\\site-packages (4.12.2)\n",
      "Requirement already satisfied: soupsieve>1.2 in d:\\t.i\\anaconda\\lib\\site-packages (from beautifulsoup4) (2.4)\n"
     ]
    }
   ],
   "source": [
    "!pip3 install beautifulsoup4"
   ]
  },
  {
   "cell_type": "markdown",
   "metadata": {},
   "source": [
    "Parsear instansiar o beautifulsoup"
   ]
  },
  {
   "cell_type": "code",
   "execution_count": 2,
   "metadata": {},
   "outputs": [],
   "source": [
    "from bs4 import BeautifulSoup"
   ]
  },
  {
   "cell_type": "code",
   "execution_count": null,
   "metadata": {},
   "outputs": [],
   "source": [
    "#print(html_parsed.prettify())\n",
    "\n",
    "# o .prettify() vai me trazer o html porem identado, o que me ajuda a separar e poder ver o que eu quero pegar.\n",
    "\n"
   ]
  },
  {
   "cell_type": "markdown",
   "metadata": {},
   "source": [
    "### Métodos principais\n",
    "\n",
    "- find()\n",
    "- find_all()"
   ]
  },
  {
   "cell_type": "markdown",
   "metadata": {},
   "source": [
    "Os métodos acima buscam o e acham a tag que estou procurando.\n",
    "\n",
    "Mas posso precisar encontrar por outro formato.\n",
    "\n",
    "As paginas podem ter classes e id's.\n",
    "\n",
    "O find() sempre vai encontrar o primeiro objeto que eu procurar dessa tag, ja com o find_all() eu terei uma lista de todos os objetos que existem pelo que estou buscando.\n",
    "\n",
    "Para achar uma classe ou um id:"
   ]
  },
  {
   "cell_type": "code",
   "execution_count": null,
   "metadata": {},
   "outputs": [],
   "source": [
    "#find(id = '')\n",
    "#find(class_ = '')\n",
    "\n"
   ]
  },
  {
   "cell_type": "markdown",
   "metadata": {},
   "source": [
    "# Treinando scraping.\n",
    "\n",
    "- Vamos fazer um web scraping do seguinte site:\n",
    "https://www.scrapethissite.com/pages/simple/"
   ]
  }
 ],
 "metadata": {
  "kernelspec": {
   "display_name": "base",
   "language": "python",
   "name": "python3"
  },
  "language_info": {
   "codemirror_mode": {
    "name": "ipython",
    "version": 3
   },
   "file_extension": ".py",
   "mimetype": "text/x-python",
   "name": "python",
   "nbconvert_exporter": "python",
   "pygments_lexer": "ipython3",
   "version": "3.11.5"
  }
 },
 "nbformat": 4,
 "nbformat_minor": 2
}
